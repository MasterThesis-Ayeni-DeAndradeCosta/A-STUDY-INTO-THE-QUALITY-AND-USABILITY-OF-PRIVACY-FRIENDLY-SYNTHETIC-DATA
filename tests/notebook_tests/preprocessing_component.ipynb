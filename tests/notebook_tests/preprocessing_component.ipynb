{
 "cells": [
  {
   "cell_type": "markdown",
   "metadata": {},
   "source": [
    "# **Preprocessing Component Test Notebook**"
   ]
  },
  {
   "cell_type": "markdown",
   "metadata": {},
   "source": [
    "### **Summary of Preprocessing Results**\n",
    "- ✅ **Loaded Dataset**: Verified dataset name and shape.\n",
    "- ✅ **Handled Missing Values**: Checked how many rows were dropped.\n",
    "- ✅ **Encoded Categorical Features**: Ensured categorical variables are transformed properly.\n",
    "\n",
    "This confirms that the preprocessing functions work correctly.\n"
   ]
  },
  {
   "cell_type": "code",
   "execution_count": null,
   "metadata": {
    "vscode": {
     "languageId": "plaintext"
    }
   },
   "outputs": [],
   "source": [
    "import pandas as pd\n",
    "from src.preprocessing.data_loader import load_dataset\n",
    "from src.preprocessing.missing_value_handler import handle_missing_values\n",
    "from src.preprocessing.encoding import encode_categorical_features\n",
    "\n",
    "# Define dataset path\n",
    "original_dataset_path = \"../datasets/original/sample_dataset.csv\"  # Modify with actual dataset\n",
    "separator = \",\"  # Adjust based on dataset format\n",
    "target_column = \"Target\"  # Adjust based on dataset\n"
   ]
  },
  {
   "cell_type": "code",
   "execution_count": null,
   "metadata": {
    "vscode": {
     "languageId": "plaintext"
    }
   },
   "outputs": [],
   "source": [
    "# Load dataset\n",
    "original_data, dataset_name = load_dataset(original_dataset_path, separator)\n",
    "print(f\"Dataset Name: {dataset_name}\")\n",
    "print(f\"Original Data Shape: {original_data.shape}\")\n",
    "original_data.head()\n"
   ]
  },
  {
   "cell_type": "code",
   "execution_count": null,
   "metadata": {
    "vscode": {
     "languageId": "plaintext"
    }
   },
   "outputs": [],
   "source": [
    "# Handle missing values\n",
    "cleaned_data, dropped_rows = handle_missing_values(original_data, strategy=\"drop\")\n",
    "print(f\"Dropped {dropped_rows} rows due to missing values\")\n",
    "print(f\"Cleaned Data Shape: {cleaned_data.shape}\")\n",
    "cleaned_data.head()\n"
   ]
  },
  {
   "cell_type": "code",
   "execution_count": null,
   "metadata": {
    "vscode": {
     "languageId": "plaintext"
    }
   },
   "outputs": [],
   "source": [
    "\n",
    "# Encode categorical features using Binary Encoding\n",
    "encoded_data = encode_categorical_features(cleaned_data, target_column)\n",
    "print(f\"Encoded Data Shape: {encoded_data.shape}\")\n",
    "encoded_data.head()"
   ]
  }
 ],
 "metadata": {
  "language_info": {
   "name": "python"
  }
 },
 "nbformat": 4,
 "nbformat_minor": 2
}
