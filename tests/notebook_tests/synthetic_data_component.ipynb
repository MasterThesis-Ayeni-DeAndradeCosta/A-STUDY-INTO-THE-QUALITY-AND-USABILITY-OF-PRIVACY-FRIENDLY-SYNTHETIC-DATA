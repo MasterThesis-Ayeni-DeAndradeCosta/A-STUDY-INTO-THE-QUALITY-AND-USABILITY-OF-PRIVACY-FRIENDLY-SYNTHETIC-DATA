{
 "cells": [
  {
   "cell_type": "markdown",
   "metadata": {},
   "source": [
    "\n",
    "## Synthetic Data Generation Testing\n",
    "\n",
    "Now that we have successfully tested the preprocessing pipeline, we will extend this notebook to include:\n",
    "- **Synthetic Data Generation**\n",
    "- **Saving and Visualizing the Generated Data**\n",
    "- **Comparing Synthetic and Original Data**\n"
   ]
  },
  {
   "cell_type": "code",
   "execution_count": null,
   "metadata": {},
   "outputs": [],
   "source": [
    "import sys\n",
    "import os\n",
    "\n",
    "# Get the absolute path of the project root (move up from notebooks/tests)\n",
    "project_root = os.path.abspath(os.path.join(os.getcwd(), \"../..\"))  \n",
    "\n",
    "# Add `src/` directory explicitly to Python path\n",
    "src_path = os.path.join(project_root, \"src\")\n",
    "if src_path not in sys.path:\n",
    "    sys.path.insert(0, src_path)\n"
   ]
  },
  {
   "cell_type": "code",
   "execution_count": null,
   "metadata": {},
   "outputs": [],
   "source": [
    "# Verify the path\n",
    "print(sys.path)"
   ]
  },
  {
   "cell_type": "code",
   "execution_count": null,
   "metadata": {},
   "outputs": [],
   "source": [
    "import pandas as pd\n",
    "from preprocessing.data_loader import load_dataset\n",
    "from preprocessing.missing_value_handler import handle_missing_values\n",
    "from preprocessing.encoding import encode_categorical_features\n",
    "\n",
    "# Define dataset path\n",
    "original_dataset_path = \"../../datasets/original/studentPerformance.csv\"\n",
    "separator = \";\"  # Adjust based on dataset format\n",
    "target_column = \"Target\"  # Adjust based on dataset\n"
   ]
  },
  {
   "cell_type": "code",
   "execution_count": null,
   "metadata": {},
   "outputs": [],
   "source": [
    "# Load dataset\n",
    "original_data, dataset_name = load_dataset(original_dataset_path, separator)\n",
    "original_data.head()\n"
   ]
  },
  {
   "cell_type": "code",
   "execution_count": null,
   "metadata": {},
   "outputs": [],
   "source": [
    "# Handle missing values\n",
    "cleaned_data = handle_missing_values(original_data, strategy=\"drop\")\n",
    "cleaned_data.head()\n"
   ]
  },
  {
   "cell_type": "code",
   "execution_count": null,
   "metadata": {},
   "outputs": [],
   "source": [
    "\n",
    "# Encode categorical features using Binary Encoding\n",
    "encoded_data = encode_categorical_features(cleaned_data, target_column)\n",
    "encoded_data.head()"
   ]
  },
  {
   "cell_type": "markdown",
   "id": "f84509d0",
   "metadata": {},
   "source": [
    "\n",
    "## Synthetic Data Generation Testing\n",
    "\n",
    "Now that we have successfully tested the preprocessing pipeline, we will extend this notebook to include:\n",
    "- **Synthetic Data Generation**\n",
    "- **Saving and Visualizing the Generated Data**\n",
    "- **Comparing Synthetic and Original Data**\n"
   ]
  },
  {
   "cell_type": "code",
   "execution_count": null,
   "metadata": {},
   "outputs": [],
   "source": [
    "import pandas as pd\n",
    "from sdv.metadata import SingleTableMetadata\n",
    "from sdv.single_table import CTGANSynthesizer\n",
    "\n",
    "# Generate metadata from the encoded dataset\n",
    "metadata = SingleTableMetadata()\n",
    "metadata.detect_from_dataframe(encoded_data)"
   ]
  },
  {
   "cell_type": "code",
   "execution_count": null,
   "metadata": {},
   "outputs": [],
   "source": [
    "# Initialize CTGAN Synthesizer (Remove learning_rate)\n",
    "ctgan_synthesizer = CTGANSynthesizer(metadata, epochs=5, batch_size=16)\n",
    "\n",
    "print(\"\\n🛠️ Testing CTGAN synthesizer on the encoded dataset...\")\n",
    "\n",
    "# Train synthesizer\n",
    "try:\n",
    "    ctgan_synthesizer.fit(encoded_data)\n",
    "    print(\"✅ CTGAN training successful.\")\n",
    "except Exception as e:\n",
    "    print(f\"❌ CTGAN training failed: {e}\")\n",
    "\n",
    "# Generate synthetic data\n",
    "try:\n",
    "    synthetic_data = ctgan_synthesizer.sample(num_rows=encoded_data.shape[0])\n",
    "    print(\"✅ CTGAN generated synthetic data successfully.\")\n",
    "    display(synthetic_data.head())  # Show sample rows\n",
    "except Exception as e:\n",
    "    print(f\"❌ CTGAN failed to generate synthetic data: {e}\")"
   ]
  },
  {
   "cell_type": "code",
   "execution_count": null,
   "metadata": {},
   "outputs": [],
   "source": []
  },
  {
   "cell_type": "code",
   "execution_count": null,
   "id": "cdb9e2cb",
   "metadata": {},
   "outputs": [],
   "source": [
    "\n",
    "# Import necessary libraries\n",
    "import os\n",
    "import pandas as pd\n",
    "from synthetic_pipeline.data_synthesis import generate_synthetic_data, load_or_train_synthesizer\n",
    "\n",
    "# Define parameters\n",
    "TEST_SIZE = 0.2\n",
    "DATASET_NAME = \"loan\"\n",
    "SYNTHETIC_DATA_DIR = \"datasets/synthetic\"\n",
    "\n",
    "# Generate synthetic data using the preprocessed dataset\n",
    "synthetic_data, metadata = generate_synthetic_data(encoded_data, DATASET_NAME, TEST_SIZE)\n",
    "\n",
    "# Display synthetic data preview\n",
    "synthetic_data.head()\n"
   ]
  },
  {
   "cell_type": "markdown",
   "id": "ffbb5fc0",
   "metadata": {},
   "source": [
    "\n",
    "## Saving Synthetic Data\n",
    "\n",
    "The generated synthetic data will be saved into the `datasets/synthetic` directory. Let's verify that it is correctly stored.\n"
   ]
  },
  {
   "cell_type": "code",
   "execution_count": null,
   "id": "6b12eb9b",
   "metadata": {},
   "outputs": [],
   "source": [
    "\n",
    "# Save synthetic data to CSV\n",
    "synthetic_data_path = os.path.join(SYNTHETIC_DATA_DIR, f\"{DATASET_NAME}_synthetic.csv\")\n",
    "synthetic_data.to_csv(synthetic_data_path, index=False)\n",
    "\n",
    "# Check if the file exists\n",
    "os.path.exists(synthetic_data_path)\n"
   ]
  },
  {
   "cell_type": "markdown",
   "id": "9d20a95f",
   "metadata": {},
   "source": [
    "\n",
    "## Comparing Synthetic vs Original Data\n",
    "\n",
    "We will compare key statistics of the original and synthetic datasets to evaluate how well the synthetic data replicates the original distribution.\n"
   ]
  },
  {
   "cell_type": "code",
   "execution_count": null,
   "id": "91daf553",
   "metadata": {},
   "outputs": [],
   "source": [
    "\n",
    "# Compare basic statistics of original vs synthetic data\n",
    "original_stats = cleaned_data.describe()\n",
    "synthetic_stats = synthetic_data.describe()\n",
    "\n",
    "# Display comparison\n",
    "display(original_stats, synthetic_stats)\n"
   ]
  }
 ],
 "metadata": {
  "kernelspec": {
   "display_name": "Python 3",
   "language": "python",
   "name": "python3"
  },
  "language_info": {
   "codemirror_mode": {
    "name": "ipython",
    "version": 3
   },
   "file_extension": ".py",
   "mimetype": "text/x-python",
   "name": "python",
   "nbconvert_exporter": "python",
   "pygments_lexer": "ipython3",
   "version": "3.12.6"
  }
 },
 "nbformat": 4,
 "nbformat_minor": 2
}
